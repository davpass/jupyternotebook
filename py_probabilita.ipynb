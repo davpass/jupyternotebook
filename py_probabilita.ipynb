{
 "cells": [
  {
   "cell_type": "markdown",
   "metadata": {},
   "source": [
    "# Esempio notebook python e probabilità\n",
    "\n",
    "La probabilità\n",
    "$p(x)$\n",
    "è una quantità tale che\n",
    "$0≤x≤1$\n",
    " \n",
    "Se lancio il dado è possbile ottenere 6 risultati distribuiti in modo uniforme.\n",
    "Simuliamo questa cosa.\n",
    "E cosa succede se ne lanciamo due di dadi?"
   ]
  },
  {
   "cell_type": "code",
   "execution_count": 1,
   "metadata": {},
   "outputs": [
    {
     "name": "stdout",
     "output_type": "stream",
     "text": [
      "4\n",
      "range(10) [0, 1, 2, 3, 4, 5, 6, 7, 8, 9]\n"
     ]
    },
    {
     "data": {
      "image/png": "[encoded data removed]",
      "text/plain": [
       "<matplotlib.figure.Figure at 0x952c2e8>"
      ]
     },
     "metadata": {},
     "output_type": "display_data"
    },
    {
     "name": "stdout",
     "output_type": "stream",
     "text": [
      "hist1 [ 1660.  1664.  1632.  1708.  1701.  1635.]\n",
      "0.166666666667\n"
     ]
    },
    {
     "data": {
      "image/png": "[encoded data removed]",
      "text/plain": [
       "<matplotlib.figure.Figure at 0x9a54320>"
      ]
     },
     "metadata": {},
     "output_type": "display_data"
    },
    {
     "name": "stdout",
     "output_type": "stream",
     "text": [
      "hist2 [  290.   554.   837.  1142.  1416.  1623.  1344.  1119.   788.   610.\n",
      "   277.]\n",
      "10000.0\n",
      "1.0\n",
      "0.0833333333333\n"
     ]
    }
   ],
   "source": [
    "import random #importo libreria random per generare numero casuale in modo uniforme\n",
    "import matplotlib.pyplot as plt\n",
    "\n",
    "print random.randint(1,6) #prova di stampa\n",
    "\n",
    "print \"range(10)\", range(10)\n",
    "number_of_simulation = 10000\n",
    "a_random_list = []\n",
    "\n",
    "\n",
    "#lancio un dado\n",
    "for i in range(number_of_simulation):\n",
    "    a_random_list.append(random.randint(1,6))\n",
    "    \n",
    "#print a_random_list\n",
    "\n",
    "fig1 =plt.figure()\n",
    "hist1, bins , pathces  = plt.hist(a_random_list,6) #istogramma del numero delle occorrenze\n",
    "plt.show()\n",
    "\n",
    "print \"hist1\", hist1\n",
    "print 1.0/6.0\n",
    "\n",
    "# lancio due dadi\n",
    "\n",
    "a_random_list_2= []\n",
    "\n",
    "for i in range(number_of_simulation):\n",
    "    a_random_list_2.append(random.randint(1,6)+random.randint(1,6))\n",
    "    \n",
    "fig2 = plt.figure()\n",
    "hist2, bins2 , pathces2  =plt.hist(a_random_list_2,11) #istogramma del numero delle occorrenze\n",
    "plt.show()\n",
    "\n",
    "print \"hist2\", hist2\n",
    "tmp = hist2/number_of_simulation\n",
    "print sum(hist2)\n",
    "print sum(tmp)\n",
    "print 1.0/12.0"
   ]
  },
  {
   "cell_type": "code",
   "execution_count": null,
   "metadata": {
    "collapsed": true
   },
   "outputs": [],
   "source": []
  }
 ],
 "metadata": {
  "kernelspec": {
   "display_name": "Python 2",
   "language": "python",
   "name": "python2"
  },
  "language_info": {
   "codemirror_mode": {
    "name": "ipython",
    "version": 2
   },
   "file_extension": ".py",
   "mimetype": "text/x-python",
   "name": "python",
   "nbconvert_exporter": "python",
   "pygments_lexer": "ipython2",
   "version": "2.7.13"
  }
 },
 "nbformat": 4,
 "nbformat_minor": 2
}
