{
 "cells": [
  {
   "cell_type": "markdown",
   "metadata": {},
   "source": [
    "# Esempio notebook python e probabilità\n",
    "\n",
    "La probabilità\n",
    "$p(x)$\n",
    "è una quantità tale che\n",
    "$0≤x≤1$\n",
    " \n",
    "Se lancio il dado è possbile ottenere 6 risultati distribuiti in modo uniforme.\n",
    "Simuliamo questa cosa.\n",
    "\n",
    "E cosa succede se ne lanciamo due di dadi?\n",
    "\n",
    "Vediamo una semplice simulazione e i corrispondenti istogrammi\n",
    "\n",
    "Per farlo usiamo :\n",
    "- libreria di sistema random per generare numeri casuali uniformemente distribuiti\n",
    "- libreria matplotlib per realizzare plot"
   ]
  },
  {
   "cell_type": "code",
   "execution_count": 4,
   "metadata": {},
   "outputs": [
    {
     "ename": "SyntaxError",
     "evalue": "Missing parentheses in call to 'print' (<ipython-input-4-50bad52655f9>, line 21)",
     "output_type": "error",
     "traceback": [
      "\u001b[0;36m  File \u001b[0;32m\"<ipython-input-4-50bad52655f9>\"\u001b[0;36m, line \u001b[0;32m21\u001b[0m\n\u001b[0;31m    print \"hist1\", hist1\u001b[0m\n\u001b[0m                ^\u001b[0m\n\u001b[0;31mSyntaxError\u001b[0m\u001b[0;31m:\u001b[0m Missing parentheses in call to 'print'\n"
     ]
    }
   ],
   "source": [
    "import random #importo libreria random per generare numero casuale in modo uniforme\n",
    "import matplotlib.pyplot as plt\n",
    "\n",
    "print random.randint(1,6) #prova di stampa\n",
    "\n",
    "print \"range(10)\", range(10)\n",
    "number_of_simulation = 10000\n",
    "a_random_list = []\n",
    "\n",
    "\n",
    "#lancio un dado\n",
    "for i in range(number_of_simulation):\n",
    "    a_random_list.append(random.randint(1,6))\n",
    "    \n",
    "#print a_random_list\n",
    "\n",
    "fig1 =plt.figure()\n",
    "hist1, bins , pathces  = plt.hist(a_random_list,6) #istogramma del numero delle occorrenze\n",
    "plt.show()\n",
    "\n",
    "print \"hist1\", hist1\n",
    "print 1.0/6.0\n",
    "\n",
    "# lancio due dadi\n",
    "\n",
    "a_random_list_2= []\n",
    "\n",
    "for i in range(number_of_simulation):\n",
    "    a_random_list_2.append(random.randint(1,6)+random.randint(1,6))\n",
    "    \n",
    "fig2 = plt.figure()\n",
    "hist2, bins2 , pathces2  =plt.hist(a_random_list_2,11) #istogramma del numero delle occorrenze\n",
    "plt.show()\n",
    "\n",
    "#print \"hist2\", hist2\n",
    "#tmp = hist2/number_of_simulation\n",
    "#print sum(hist2)\n",
    "#print sum(tmp)"
   ]
  },
  {
   "cell_type": "code",
   "execution_count": null,
   "metadata": {
    "collapsed": true
   },
   "outputs": [],
   "source": []
  }
 ],
 "metadata": {
  "kernelspec": {
   "display_name": "Python 3",
   "language": "python",
   "name": "python3"
  },
  "language_info": {
   "codemirror_mode": {
    "name": "ipython",
    "version": 3
   },
   "file_extension": ".py",
   "mimetype": "text/x-python",
   "name": "python",
   "nbconvert_exporter": "python",
   "pygments_lexer": "ipython3",
   "version": "3.5.2"
  }
 },
 "nbformat": 4,
 "nbformat_minor": 2
}
